{
 "cells": [
  {
   "cell_type": "markdown",
   "metadata": {},
   "source": [
    "Check [this link](https://github.com/Kaggle/kaggle-api#kaggle-api) and setup your Kaggle credentials"
   ]
  },
  {
   "cell_type": "markdown",
   "metadata": {},
   "source": [
    "## Import packages"
   ]
  },
  {
   "cell_type": "code",
   "execution_count": 2,
   "metadata": {},
   "outputs": [],
   "source": [
    "from kaggle import api as kaggle\n",
    "import pandas as pd\n",
    "from gensim.models import Word2Vec\n",
    "import re"
   ]
  },
  {
   "cell_type": "markdown",
   "metadata": {},
   "source": [
    "## Download data from Kaggle"
   ]
  },
  {
   "cell_type": "code",
   "execution_count": 3,
   "metadata": {},
   "outputs": [],
   "source": [
    "kaggle.authenticate()"
   ]
  },
  {
   "cell_type": "code",
   "execution_count": 6,
   "metadata": {},
   "outputs": [],
   "source": [
    "kaggle.dataset_download_files('rtatman/paranormal-romance-novel-titles', path='datasets', unzip=True)\n",
    "with open(\"datasets/pararomance\") as f:\n",
    "    dataset = f.read().splitlines()\n",
    "titles = [re.sub(\"\\(.*\", \"\", x) for x in dataset]"
   ]
  },
  {
   "cell_type": "code",
   "execution_count": null,
   "metadata": {},
   "outputs": [],
   "source": [
    "kaggle.dataset_download_files('hsankesara/medium-articles', path='datasets', unzip=True)\n",
    "dataset = pd.read_csv(\"datasets/articles.csv\")\n",
    "titles = dataset[\"text\"].values"
   ]
  },
  {
   "cell_type": "markdown",
   "metadata": {},
   "source": [
    "## Pre Processing"
   ]
  },
  {
   "cell_type": "code",
   "execution_count": 9,
   "metadata": {},
   "outputs": [],
   "source": [
    "corpus = list()\n",
    "for title in titles:\n",
    "    tokens = title.lower().split()\n",
    "    tokens = [re.sub(\"[^a-zA-Z]\", \"\", x) for x in tokens]\n",
    "#     tokens = [x for x in tokens if len(x) > 2]\n",
    "    tokens = [x for x in tokens if re.search('[a-zA-Z]', x)]\n",
    "    tokens = [x.strip() for x in tokens]\n",
    "    corpus.append(tokens)"
   ]
  },
  {
   "cell_type": "code",
   "execution_count": 10,
   "metadata": {},
   "outputs": [
    {
     "data": {
      "text/plain": [
       "(472281, 587300)"
      ]
     },
     "execution_count": 10,
     "metadata": {},
     "output_type": "execute_result"
    }
   ],
   "source": [
    "model = Word2Vec(corpus, window=1, min_count=1, workers=10)\n",
    "model.train(corpus, total_examples=len(corpus), epochs=50)"
   ]
  },
  {
   "cell_type": "code",
   "execution_count": 11,
   "metadata": {},
   "outputs": [
    {
     "data": {
      "text/plain": [
       "[('chameleons', 0.9806134700775146),\n",
       " ('beasts', 0.9784820675849915),\n",
       " ('into', 0.9782774448394775),\n",
       " ('riveauxs', 0.9780147671699524),\n",
       " ('alphas', 0.9771049618721008),\n",
       " ('white', 0.9760096073150635),\n",
       " ('wolfs', 0.9755285978317261),\n",
       " ('dragon', 0.9754618406295776),\n",
       " ('wild', 0.9749544858932495),\n",
       " ('rising', 0.973840594291687)]"
      ]
     },
     "execution_count": 11,
     "metadata": {},
     "output_type": "execute_result"
    }
   ],
   "source": [
    "model.wv.most_similar([\"vampires\", \"and\"])"
   ]
  },
  {
   "cell_type": "code",
   "execution_count": null,
   "metadata": {},
   "outputs": [],
   "source": []
  }
 ],
 "metadata": {
  "kernelspec": {
   "display_name": "Python 3",
   "language": "python",
   "name": "python3"
  },
  "language_info": {
   "codemirror_mode": {
    "name": "ipython",
    "version": 3
   },
   "file_extension": ".py",
   "mimetype": "text/x-python",
   "name": "python",
   "nbconvert_exporter": "python",
   "pygments_lexer": "ipython3",
   "version": "3.7.2"
  }
 },
 "nbformat": 4,
 "nbformat_minor": 2
}
